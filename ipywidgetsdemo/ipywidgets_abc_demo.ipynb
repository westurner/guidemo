{
 "cells": [
  {
   "cell_type": "markdown",
   "metadata": {},
   "source": [
    "# ipywidgets ABC demo\n",
    "- Update an output widget with the sum of two input widgets when the 'change' event fires"
   ]
  },
  {
   "cell_type": "code",
   "execution_count": 1,
   "metadata": {},
   "outputs": [
    {
     "data": {
      "application/vnd.jupyter.widget-view+json": {
       "model_id": "c1e4e04a988f4b0aa299e54181573d72",
       "version_major": 2,
       "version_minor": 0
      },
      "text/plain": [
       "interactive(children=(IntText(value=0, description='#1'), IntText(value=0, description='#2'), Output()), _dom_…"
      ]
     },
     "metadata": {},
     "output_type": "display_data"
    },
    {
     "data": {
      "text/plain": [
       "<function __main__.add>"
      ]
     },
     "execution_count": 1,
     "metadata": {},
     "output_type": "execute_result"
    }
   ],
   "source": [
    "# https://ipywidgets.readthedocs.io/en/latest/examples/Using%20Interact.html\n",
    "# https://ipywidgets.readthedocs.io/en/latest/examples/Widget%20List.html\n",
    "from ipywidgets import interact\n",
    "import ipywidgets as widgets\n",
    "def add(x, y):\n",
    "    return sum((x,y))\n",
    "widget_x = widgets.IntText(value=0, description='#1')\n",
    "widget_y = widgets.IntText(value=0, description='#2')\n",
    "interact(add, x=widget_x, y=widget_y)"
   ]
  },
  {
   "cell_type": "code",
   "execution_count": 2,
   "metadata": {},
   "outputs": [
    {
     "data": {
      "application/vnd.jupyter.widget-view+json": {
       "model_id": "46e5c98146684d9ebf5f2ab86dff54aa",
       "version_major": 2,
       "version_minor": 0
      },
      "text/plain": [
       "HBox(children=(IntText(value=0, description='#1'), IntText(value=0, description='#2'), IntText(value=0, descri…"
      ]
     },
     "metadata": {},
     "output_type": "display_data"
    }
   ],
   "source": [
    "# https://ipywidgets.readthedocs.io/en/latest/examples/Widget%20Events.html#Registering-callbacks-to-trait-changes-in-the-kernel\n",
    "from IPython.display import display\n",
    "from ipywidgets import interact\n",
    "import ipywidgets as widgets\n",
    "\n",
    "widget_x = widgets.IntText(value=0, description='#1')\n",
    "widget_y = widgets.IntText(value=0, description='#2')\n",
    "widget_sigma = widgets.IntText(value=0, description='sum')\n",
    "\n",
    "def add_event(event):\n",
    "    widget_sigma.value = sum((widget_x.value, widget_y.value))\n",
    "    \n",
    "widget_x.observe(add_event, names='value')\n",
    "widget_y.observe(add_event, names='value')\n",
    "\n",
    "display(widgets.HBox([widget_x, widget_y, widget_sigma]))\n"
   ]
  }
 ],
 "metadata": {
  "kernelspec": {
   "display_name": "Python 3",
   "language": "python",
   "name": "python3"
  },
  "language_info": {
   "codemirror_mode": {
    "name": "ipython",
    "version": 3
   },
   "file_extension": ".py",
   "mimetype": "text/x-python",
   "name": "python",
   "nbconvert_exporter": "python",
   "pygments_lexer": "ipython3",
   "version": "3.6.6"
  }
 },
 "nbformat": 4,
 "nbformat_minor": 2
}
